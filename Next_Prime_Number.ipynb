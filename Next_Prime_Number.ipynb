{
 "cells": [
  {
   "cell_type": "code",
   "execution_count": 27,
   "metadata": {
    "collapsed": true
   },
   "outputs": [],
   "source": [
    "# Next Prime Number - Have the program find prime numbers until the user chooses to stop asking for the next one\n",
    "\n",
    "def next_prime(p=None):\n",
    "    isprime = lambda x: int(x) > 1 and (x == 2 or x == 3 or [x % i == 0 for i in range(2,int(x**0.5)+1)].count(True) == 0)\n",
    "\n",
    "    # first prime is 2\n",
    "    if p == None:\n",
    "        p = 0\n",
    "    else:\n",
    "        p = p\n",
    "        \n",
    "    while True:\n",
    "        p += 1\n",
    "        if p < 10**10:\n",
    "            if isprime(p):\n",
    "                yield p\n",
    "            else:\n",
    "                continue\n",
    "        else:\n",
    "            print(\"We don't do number beyond {:,d}\".format(10**10))\n",
    "            break\n",
    "\n",
    "                    \n",
    "            \n",
    "            \n",
    "        "
   ]
  },
  {
   "cell_type": "code",
   "execution_count": 28,
   "metadata": {},
   "outputs": [
    {
     "name": "stdout",
     "output_type": "stream",
     "text": [
      "<generator object next_prime at 0x000001EFDA401938>\n"
     ]
    }
   ],
   "source": [
    "# confirm we have got a generator\n",
    "print(next_prime())"
   ]
  },
  {
   "cell_type": "code",
   "execution_count": 29,
   "metadata": {},
   "outputs": [],
   "source": [
    "x = next_prime()\n",
    "\n",
    "y = next_prime(7)\n",
    "\n",
    "z = next_prime(100)\n"
   ]
  },
  {
   "cell_type": "code",
   "execution_count": 30,
   "metadata": {},
   "outputs": [
    {
     "name": "stdout",
     "output_type": "stream",
     "text": [
      "2\n",
      "11\n",
      "101\n"
     ]
    }
   ],
   "source": [
    "print(next(x))\n",
    "print(next(y))\n",
    "print(next(z))"
   ]
  },
  {
   "cell_type": "code",
   "execution_count": null,
   "metadata": {
    "collapsed": true
   },
   "outputs": [],
   "source": []
  },
  {
   "cell_type": "code",
   "execution_count": null,
   "metadata": {
    "collapsed": true
   },
   "outputs": [],
   "source": []
  }
 ],
 "metadata": {
  "kernelspec": {
   "display_name": "Python [default]",
   "language": "python",
   "name": "python3"
  },
  "language_info": {
   "codemirror_mode": {
    "name": "ipython",
    "version": 3
   },
   "file_extension": ".py",
   "mimetype": "text/x-python",
   "name": "python",
   "nbconvert_exporter": "python",
   "pygments_lexer": "ipython3",
   "version": "3.6.2"
  }
 },
 "nbformat": 4,
 "nbformat_minor": 2
}
